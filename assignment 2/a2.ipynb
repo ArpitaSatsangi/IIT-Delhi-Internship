{
 "cells": [
  {
   "cell_type": "markdown",
   "metadata": {},
   "source": [
    "Question:- Read about Median Filter. Implement median filter on your own. Also you can run median filter in opencv\n",
    "side by side to compare results with your own implementation. Now instead taking the median, use the\n",
    "average of three values, one value left of median, median and one value right of median. Compare the\n",
    "results with the median filter."
   ]
  },
  {
   "cell_type": "markdown",
   "metadata": {},
   "source": [
    "# Median Filter"
   ]
  },
  {
   "cell_type": "markdown",
   "metadata": {},
   "source": [
    "* The median filter calculates the median of the pixel intensities that surround the center pixel in a n x n kernel. \n",
    "* The median then replaces the pixel intensity of the center pixel. \n",
    "* It does good job for salt and pepper noise.\n",
    "* It also does a pretty good job of preserving edges in an image"
   ]
  },
  {
   "cell_type": "markdown",
   "metadata": {},
   "source": [
    "## 1. Using OpenCV"
   ]
  },
  {
   "cell_type": "code",
   "execution_count": 17,
   "metadata": {},
   "outputs": [],
   "source": [
    "import cv2"
   ]
  },
  {
   "cell_type": "code",
   "execution_count": 18,
   "metadata": {},
   "outputs": [],
   "source": [
    "from skimage.filters import median"
   ]
  },
  {
   "cell_type": "code",
   "execution_count": 19,
   "metadata": {},
   "outputs": [],
   "source": [
    "img = cv2.imread(\"0 original.png\", 0)"
   ]
  },
  {
   "cell_type": "code",
   "execution_count": 20,
   "metadata": {},
   "outputs": [],
   "source": [
    "median_cv = cv2.medianBlur(img, 3) # 3x3 median filter"
   ]
  },
  {
   "cell_type": "code",
   "execution_count": 21,
   "metadata": {},
   "outputs": [],
   "source": [
    "cv2.imshow(\"Original image.png\", img)\n",
    "\n",
    "cv2.imshow(\"cv2 median.png\", median_cv)\n",
    "\n",
    "cv2.waitKey(0)\n",
    "cv2.destroyAllWindows()"
   ]
  },
  {
   "cell_type": "markdown",
   "metadata": {},
   "source": [
    "## 2. Implementation"
   ]
  },
  {
   "cell_type": "code",
   "execution_count": 6,
   "metadata": {},
   "outputs": [],
   "source": [
    "import numpy"
   ]
  },
  {
   "cell_type": "code",
   "execution_count": 7,
   "metadata": {},
   "outputs": [],
   "source": [
    "from PIL import Image"
   ]
  },
  {
   "cell_type": "code",
   "execution_count": 8,
   "metadata": {},
   "outputs": [],
   "source": [
    "def median_filter(data, filter_size):\n",
    "    \n",
    "    filter_box = []\n",
    "    indexer = filter_size // 2\n",
    "    data_final = []\n",
    "    data_final = numpy.zeros((len(data),len(data[0])))\n",
    "    \n",
    "    for i in range(len(data)):\n",
    "\n",
    "        for j in range(len(data[0])):\n",
    "\n",
    "            for z in range(filter_size):\n",
    "                if i + z - indexer < 0 or i + z - indexer > len(data) - 1:\n",
    "                    for c in range(filter_size):\n",
    "                        filter_box.append(0)\n",
    "                else:\n",
    "                    if j + z - indexer < 0 or j + indexer > len(data[0]) - 1:\n",
    "                        filter_box.append(0)\n",
    "                    else:\n",
    "                        for k in range(filter_size):\n",
    "                            filter_box.append(data[i + z - indexer][j + k - indexer])                           \n",
    "                            \n",
    "            filter_box.sort()\n",
    "            data_final[i][j] = filter_box[len(filter_box) // 2]\n",
    "            filter_box = []\n",
    "    return data_final\n"
   ]
  },
  {
   "cell_type": "code",
   "execution_count": 9,
   "metadata": {},
   "outputs": [],
   "source": [
    "img = Image.open(\"0 original.png\")\n",
    "arr = numpy.array(img)\n",
    "removed_noise = median_filter(arr, 3) \n",
    "img2 = Image.fromarray(removed_noise)\n",
    "img2 = img2.convert(\"L\")\n",
    "img2.show()\n",
    "img2.save('2 Implementation.png')"
   ]
  },
  {
   "cell_type": "markdown",
   "metadata": {},
   "source": [
    "## 3. Implementation(Average)"
   ]
  },
  {
   "cell_type": "code",
   "execution_count": 10,
   "metadata": {},
   "outputs": [],
   "source": [
    "import numpy\n",
    "from scipy.ndimage import median_filter\n",
    "from PIL import Image"
   ]
  },
  {
   "cell_type": "code",
   "execution_count": 13,
   "metadata": {},
   "outputs": [],
   "source": [
    "def median_filter_avg(data, filter_size):\n",
    "    \n",
    "    filter_box = []\n",
    "    indexer = filter_size // 2\n",
    "    data_final = []\n",
    "    data_final = numpy.zeros((len(data),len(data[0])))\n",
    "    \n",
    "    for i in range(len(data)):\n",
    "\n",
    "        for j in range(len(data[0])):\n",
    "\n",
    "            for z in range(filter_size):\n",
    "                if i + z - indexer < 0 or i + z - indexer > len(data) - 1:\n",
    "                    for c in range(filter_size):\n",
    "                        filter_box.append(0)\n",
    "                else:\n",
    "                    if j + z - indexer < 0 or j + indexer > len(data[0]) - 1:\n",
    "                        filter_box.append(0)\n",
    "                    else:\n",
    "                        for k in range(filter_size):\n",
    "                            filter_box.append(data[i + z - indexer][j + k - indexer])\n",
    "\n",
    "            filter_box.sort()\n",
    "            centre = (len(filter_box) // 2)\n",
    "            left = centre - 1\n",
    "            right = centre + 1\n",
    "            average = (filter_box[left]+filter_box[right]+filter_box[centre])//3\n",
    "           \n",
    "            data_final[i][j] = average\n",
    "            filter_box = []\n",
    "    return data_final"
   ]
  },
  {
   "cell_type": "code",
   "execution_count": 15,
   "metadata": {},
   "outputs": [],
   "source": [
    "img = Image.open(\"0 original.png\")\n",
    "arr = numpy.array(img, dtype='int64') # initializing the numpy arrays as an int64 datatype\n",
    "removed_noise = median_filter_avg(arr, 3) \n",
    "img3 = Image.fromarray(removed_noise)\n",
    "img3 = img3.convert(\"L\")\n",
    "img3.show()\n",
    "img3.save('3 Implementation average.png')"
   ]
  },
  {
   "cell_type": "code",
   "execution_count": null,
   "metadata": {},
   "outputs": [],
   "source": []
  }
 ],
 "metadata": {
  "kernelspec": {
   "display_name": "Python 3",
   "language": "python",
   "name": "python3"
  },
  "language_info": {
   "codemirror_mode": {
    "name": "ipython",
    "version": 3
   },
   "file_extension": ".py",
   "mimetype": "text/x-python",
   "name": "python",
   "nbconvert_exporter": "python",
   "pygments_lexer": "ipython3",
   "version": "3.8.3"
  }
 },
 "nbformat": 4,
 "nbformat_minor": 4
}
